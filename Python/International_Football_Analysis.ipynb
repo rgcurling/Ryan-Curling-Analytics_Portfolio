{
 "cells": [
  {
   "cell_type": "markdown",
   "id": "b3f99244-3519-45ae-b02a-8f9fc916a3ff",
   "metadata": {},
   "source": [
    "# International Football Data Analysis Project: "
   ]
  },
  {
   "cell_type": "markdown",
   "id": "a0358629",
   "metadata": {},
   "source": [
    "    This project analyzes football data to explore various insights, trends, and performance metrics related to teams and players.\n"
   ]
  },
  {
   "cell_type": "markdown",
   "id": "9c0e6bd7",
   "metadata": {},
   "source": [
    "### Objectives:\n",
    "- Load and preprocess datasets containing football match results, goalscorers, and shootouts.\n",
    "- Merge datasets for comprehensive analysis.\n",
    " Analyze team performance by calculating goal differentials and identifying top-performing teams.\n",
    "- Map teams to their respective confederations and analyze performance trends by confederation.\n",
    "- Identify top scorers in FIFA World Cup matches. \n",
    "- Determine FIFA World Cup winners across years.\n",
    "- Assess overall team performance based on win rate, goal difference, and match count.\n",
    "- Highlight rivalries and host country performances."
   ]
  },
  {
   "cell_type": "markdown",
   "id": "be569001",
   "metadata": {},
   "source": [
    "### Datasets:\n",
    "1. **Goalscorers Dataset**: Contains information about players who scored goals in matches.\n",
    "2. **Results Dataset**: Provides details about match results, including scores, teams, and dates.\n",
    "3. **Shootouts Dataset**: Contains data on penalty shootouts.\n"
   ]
  },
  {
   "cell_type": "markdown",
   "id": "83d4db0e",
   "metadata": {},
   "source": [
    "### Loading packages"
   ]
  },
  {
   "cell_type": "code",
   "execution_count": 1,
   "id": "81f2c939",
   "metadata": {},
   "outputs": [],
   "source": [
    "import pandas as pd\n",
    "import matplotlib.pyplot as plt"
   ]
  },
  {
   "cell_type": "markdown",
   "id": "b8e62f3d",
   "metadata": {},
   "source": [
    "### Loading datasets"
   ]
  },
  {
   "cell_type": "code",
   "execution_count": 3,
   "id": "0e07c517",
   "metadata": {},
   "outputs": [
    {
     "name": "stdout",
     "output_type": "stream",
     "text": [
      "Goalscorers Dataset Loaded:\n",
      "         date home_team away_team     team           scorer  minute  own_goal  \\\n",
      "0  1916-07-02     Chile   Uruguay  Uruguay  José Piendibene    44.0     False   \n",
      "\n",
      "   penalty  \n",
      "0    False  \n",
      "\n",
      "Results Dataset Loaded:\n",
      "         date home_team away_team  home_score  away_score tournament     city  \\\n",
      "0  1872-11-30  Scotland   England           0           0   Friendly  Glasgow   \n",
      "\n",
      "    country  neutral  \n",
      "0  Scotland    False  \n",
      "\n",
      "Shootouts Dataset Loaded:\n",
      "         date home_team away_team  winner first_shooter\n",
      "0  1967-08-22     India    Taiwan  Taiwan           NaN\n"
     ]
    }
   ],
   "source": [
    "# Load the Goalscorers dataset\n",
    "goalscorers_file_path = \"/Users/ryancurling/Desktop/Python projects/International Football Analysis/goalscorers.csv\"\n",
    "goalscorers_data = pd.read_csv(goalscorers_file_path)\n",
    "print(\"Goalscorers Dataset Loaded:\")\n",
    "print(goalscorers_data.head(1))\n",
    "\n",
    "# Load the Results dataset\n",
    "results_file_path = \"/Users/ryancurling/Desktop/Python projects/International Football Analysis/results.csv\"\n",
    "results_data = pd.read_csv(results_file_path)\n",
    "print(\"\\nResults Dataset Loaded:\")\n",
    "print(results_data.head(1))\n",
    "\n",
    "# Load the Shootouts dataset\n",
    "shootouts_file_path = \"/Users/ryancurling/Desktop/Python projects/International Football Analysis/shootouts.csv\"\n",
    "shootouts_data = pd.read_csv(shootouts_file_path)\n",
    "print(\"\\nShootouts Dataset Loaded:\")\n",
    "print(shootouts_data.head(1))"
   ]
  },
  {
   "cell_type": "markdown",
   "id": "2fbb23f4",
   "metadata": {},
   "source": [
    "### Mergigng datasets"
   ]
  },
  {
   "cell_type": "code",
   "execution_count": 4,
   "id": "fe3e665c",
   "metadata": {},
   "outputs": [
    {
     "name": "stdout",
     "output_type": "stream",
     "text": [
      "Final Merged Dataset:\n",
      "         date home_team away_team     team           scorer  minute  own_goal  \\\n",
      "0  1916-07-02     Chile   Uruguay  Uruguay  José Piendibene    44.0     False   \n",
      "\n",
      "   penalty  home_score  away_score    tournament          city    country  \\\n",
      "0    False           0           4  Copa América  Buenos Aires  Argentina   \n",
      "\n",
      "   neutral pk_winner first_pk_shooter  \n",
      "0     True       NaN              NaN  \n"
     ]
    }
   ],
   "source": [
    "merged_data = pd.merge(\n",
    "# Merge goalscorers with results on date, home_team, and away_team\n",
    "    goalscorers_data,\n",
    "    results_data,\n",
    "    on=['date', 'home_team', 'away_team'],\n",
    "    how='inner'  # Use 'inner' to keep only matching rows\n",
    ")\n",
    "\n",
    "# Merge the result with shootouts\n",
    "final_data = pd.merge(\n",
    "    merged_data,\n",
    "    shootouts_data,\n",
    "    on=['date', 'home_team', 'away_team'],\n",
    "    how='left'  # Use 'left' to keep all rows from merged_data\n",
    ")\n",
    "\n",
    "# Rename columns for clarity \n",
    "final_data = final_data.rename(columns={'winner': 'pk_winner'})\n",
    "final_data = final_data.rename(columns={'first_shooter': 'first_pk_shooter'})\n",
    "\n",
    "\n",
    "# Display the first few rows of the final merged dataset\n",
    "print(\"Final Merged Dataset:\")\n",
    "print(final_data.head(1))"
   ]
  },
  {
   "cell_type": "markdown",
   "id": "09357fea",
   "metadata": {},
   "source": [
    "### Confederation Mapping"
   ]
  },
  {
   "cell_type": "code",
   "execution_count": 5,
   "id": "c4dd2b1d",
   "metadata": {},
   "outputs": [
    {
     "name": "stdout",
     "output_type": "stream",
     "text": [
      "Columns in merged data: Index(['date', 'home_team', 'away_team', 'team', 'scorer', 'minute',\n",
      "       'own_goal', 'penalty', 'home_score', 'away_score', 'tournament', 'city',\n",
      "       'country', 'neutral', 'pk_winner', 'first_pk_shooter', 'confederation'],\n",
      "      dtype='object')\n"
     ]
    }
   ],
   "source": [
    "confederation_mapping = {\n",
    "    # AFC - Asia\n",
    "    \"Japan\": \"AFC\", \"South Korea\": \"AFC\", \"China\": \"AFC\", \"India\": \"AFC\", \n",
    "    \"Iran\": \"AFC\", \"Saudi Arabia\": \"AFC\", \"Iraq\": \"AFC\",\n",
    "    \"Qatar\": \"AFC\", \"United Arab Emirates\": \"AFC\", \"Uzbekistan\": \"AFC\",\n",
    "    \"Vietnam\": \"AFC\", \"Oman\": \"AFC\", \"Thailand\": \"AFC\", \"Brunei\": \"AFC\", \n",
    "    \"Cambodia\": \"AFC\", \"East Timor\": \"AFC\", \"Indonesia\": \"AFC\", \"Laos\": \"AFC\",\n",
    "    \"Malaysia\": \"AFC\", \"Myanmar\": \"AFC\", \"Philippines\": \"AFC\", \"Singapore\": \"AFC\",\n",
    "   \"Afghanistan\": \"AFC\", \"Islamic Republic of Iran\": \"AFC\", \"Kyrgyz Republuc\": \"AFC\",\n",
    "   \"Tajikistan\": \"AFC\", \"Turkmenistan\": \"AFC\", \"Chinese Taipei\": \"AFC\", \n",
    "   \"DPR Korea\": \"AFC\", \"Guam\": \"AFC\", \"Hong Kong\": \"AFC\", \"Korea Republic\": \"AFC\",\n",
    "   \"Macau\": \"AFC\", \"Mongolia\": \"AFC\", \"Norhthern Mariana Islands\": \"AFC\", \n",
    "   \"Bangladesh\": \"AFC\", \"Bhutan\": \"AFC\", \"Maldives\": \"AFC\", \"Nepal\": \"AFC\",\n",
    "   \"Pakistan\": \"AFC\", \"Sri Lanka\": \"AFC\", \"Bahrain\": \"AFC\", \"Jordon\": \"AFC\", \n",
    "   \"Kuwait\": \"AFC\", \"Lebanon\": \"AFC\", \"Oman\": \"AFC\", \"Palestine\": \"AFC\", \n",
    "   \"Qater\": \"AFC\", \"Syria\": \"AFC\", \"United Arab Emirates\": \"AFC\", \n",
    "   \"Yemen\": \"AFC\", \"Jordan\": \"AFC\", \"China PR\": \"AFC\", \"North Korea\": \"AFC\", \"Kyrgyzstan\": \"AFC\",\n",
    "   \"Yemen DPR\": \"AFC\", \"Taiwan\": \"AFC\", \"Iraq\": \"AFC\", \"Hong Kong\": \"AFC\", \"Vietnam Republic\": \"AFC\",\n",
    "    \"Timor-Leste\": \"AFC\", \"Arameans Suryoye\": \"AFC\", \"Artsakh\": \"AFC\", \"Burma\": \"AFC\", \n",
    "    \"Hmong\": \"AFC\", \"Iraqi Kurdistan\": \"AFC\", \"Malaya\": \"AFC\", \"Manchukuo\": \"AFC\",\n",
    "    \"North Vietnam\": \"AFC\", \"Northern Cyprus\": \"AFC\", \"Panjab\": \"AFC\", \"Ryūkyū\": \"AFC\", \n",
    "    \"South Yemen\": \"AFC\", \"Tamil Eelam\": \"AFC\", \"Tibet\": \"AFC\",  \"United Koreans in Japan\": \"AFC\", \n",
    "    \"Western Armenia\": \"AFC\", \n",
    "\n",
    "    \n",
    "\n",
    "\n",
    "    \n",
    "    # CAF - Africa\n",
    "    \"Nigeria\": \"CAF\", \"Egypt\": \"CAF\", \"South Africa\": \"CAF\", \"Senegal\": \"CAF\", \n",
    "    \"Morocco\": \"CAF\", \"Ghana\": \"CAF\", \"Ivory Coast\": \"CAF\", \"Cameroon\": \"CAF\",\n",
    "    \"Algeria\": \"CAF\", \"Tunisia\": \"CAF\", \"Mali\": \"CAF\", \"Burkina Faso\": \"CAF\", \n",
    "    \"Zambia\": \"CAF\", \"Angola\": \"CAF\", \"Algeria\": \"CAF\", \"Libya\": \"CAF\",\n",
    "    \"Benin\": \"CAF\", \"Cape Verde\": \"CAF\", \"Gambia\": \"CAF\", \"Guinea\": \"CAF\", \"Guinea-Bissau\": \"CAF\",\n",
    "    \"Liberia\": \"CAF\", \"Mali\": \"CAF\", \"Mauritania\": \"CAF\", \"Niger\": \"CAF\", \"Sierra Leone\": \"CAF\",\n",
    "    \"Togo\": \"CAF\", \"Central African Republic\": \"CAF\", \"Chad\": \"CAF\", \"Congo\": \"CAF\",\n",
    "    \"DR Congo\": \"CAF\", \"Equatorial Guinea\": \"CAF\", \"Gabon\": \"CAF\", \"São Tomé and Príncipe\": \"CAF\",\n",
    "    \"Burundi\": \"CAF\", \"Djbouti\": \"CAF\", \"Eritrea\": \"CAF\", \"Ethiopia\": \"CAF\", \"Kenya\": \"CAF\", \n",
    "    \"Rwanada\": \"CAF\", \"Somalia\": \"CAF\", \"South Sudan\": \"CAF\", \"Sudan\": \"CAF\", \"Tanzania\": \"CAF\",\n",
    "    \"Uganda\": \"CAF\", \"Zanzibar\": \"CAF\", \"Angola\": \"CAF\", \"Botswana\": \"CAF\", \"Comoros\": \"CAF\",\n",
    "    \"Eswatini\": \"CAF\", \"Lesotho\": \"CAF\", \"Madagascar\": \"CAF\", \"Malawi\": \"CAF\", \"Mauritius\": \"CAF\", \n",
    "    \"Mozambique\": \"CAF\", \"Namibia\": \"CAF\", \"Seychelles\": \"CAF\", \"Zimbabwe\": \"CAF\", \"Réunion\": \"CAF\",\n",
    "    \"Rwanda\": \"CAF\", \"Djibouti\": \"CAF\", \"Ambazonia\": \"CAF\", \"Barawa\": \"CAF\", \"Biafra\": \"CAF\",\n",
    "    \"Canary Islands\": \"CAF\",  \"Chagos Islands\": \"CAF\", \"Darfur\": \"CAF\", \"Kabylia\": \"CAF\", \n",
    "    \"Matabeleland\": \"CAF\", \"Mayotte\": \"CAF\", \"Saint Helena\": \"CAF\", \"Somaliland\": \"CAF\", \n",
    "    \"Western Sahara\": \"CAF\", \"Yoruba Nation\": \"CAF\", \n",
    "\n",
    "\n",
    "    \n",
    "\n",
    "    \n",
    "    # CONCACAF - North, Central America & Caribbean\n",
    "    \"United States\": \"CONCACAF\", \"Mexico\": \"CONCACAF\", \"Canada\": \"CONCACAF\", \n",
    "    \"Costa Rica\": \"CONCACAF\", \"Honduras\": \"CONCACAF\", \"Jamaica\": \"CONCACAF\",\n",
    "    \"Panama\": \"CONCACAF\", \"Trinidad and Tobago\": \"CONCACAF\", \n",
    "    \"Guatemala\": \"CONCACAF\", \"El Salvador\": \"CONCACAF\", \"Belize\": \"CONCACAF\", \n",
    "    \"Anguilla\": \"CONCACAF\", \"Guatemala\": \"CONCACAF\", \"Antigua and Barbuda\": \"CONCACAF\", \n",
    "    \"Aruba\": \"CONCACAF\", \"Bahamas\": \"CONCACAF\", \"Barbados\": \"CONCACAF\", \"Bermuda\": \"CONCACAF\",\n",
    "    \"Bonaire\": \"CONCACAF\", \"British Virgin Islands\": \"CONCACAF\", \"Cayman Islands\": \"CONCACAF\",\n",
    "    \"Cuba\": \"CONCACAF\", \"Curaçao\": \"CONCACAF\", \"Dominica\": \"CONCACAF\", \"Dominican Republic\": \"CONCACAF\",\n",
    "    \"French Guiana\": \"CONCACAF\", \"Grenada\": \"CONCACAF\", \"Guadeloupe\": \"CONCACAF\", \"Guyana\": \"CONCACAF\",\n",
    "    \"Haiti\": \"CONCACAF\", \"Martinique\": \"CONCACAF\", \"Montserrat\": \"CONCACAF\", \"Puerto Rico\": \"CONCACAF\",\n",
    "    \"Saint Kitts and Nevis\": \"CONCACAF\", \"Saint Lucia\": \"CONCACAF\", \"Saint Martin\": \"CONCACAF\",\n",
    "    \"Saint Vincent and the Grenadines\": \"CONCACAF\", \"Sint Maarten\": \"CONCACAF\", \"Suriname\": \"CONCACAF\", \n",
    "    \"Trinidad and Tobago\": \"CONCACAF\", \"Turks and Caicos Islands\": \"CONCACAF\", \n",
    "    \"United States Virgin Islands\": \"CONCACAF\", \"Saint Vincent and the Grenadines\": \"CONCACAF\", \n",
    "    \"Nicaragua\": \"CONCACAF\", \"Cascadia\": \"CONCACAF\", \"Greenland\": \"CONCACAF\", \n",
    "    \"Saint Barthélemy\": \"CONCACAF\", \"Saint Pierre and Miquelon\": \"CONCACAF\",\n",
    "\n",
    "    \n",
    "    # CONMEBOL - South America\n",
    "    \"Argentina\": \"CONMEBOL\", \"Brazil\": \"CONMEBOL\", \"Uruguay\": \"CONMEBOL\", \n",
    "    \"Chile\": \"CONMEBOL\", \"Colombia\": \"CONMEBOL\", \"Peru\": \"CONMEBOL\",\n",
    "    \"Paraguay\": \"CONMEBOL\", \"Ecuador\": \"CONMEBOL\", \"Venezuela\": \"CONMEBOL\",\n",
    "    \"Bolivia\": \"CONMEBOL\", \"Aymara\": \"CONMEBOL\", \"Falkland Islands\": \"CONMEBOL\",\n",
    "    \"Mapuche\": \"CONMEBOL\", \"Maule Sur\": \"CONMEBOL\", \n",
    "    \n",
    "    # UEFA - Europe\n",
    "    \"Germany\": \"UEFA\", \"France\": \"UEFA\", \"Italy\": \"UEFA\", \"Spain\": \"UEFA\", \n",
    "    \"England\": \"UEFA\", \"Portugal\": \"UEFA\", \"Netherlands\": \"UEFA\",\n",
    "    \"Belgium\": \"UEFA\", \"Croatia\": \"UEFA\", \"Denmark\": \"UEFA\", \n",
    "    \"Sweden\": \"UEFA\", \"Switzerland\": \"UEFA\", \"Poland\": \"UEFA\", \n",
    "    \"Austria\": \"UEFA\", \"Russia\": \"UEFA\", \"Turkey\": \"UEFA\",\n",
    "    \"Norway\": \"UEFA\", \"Ukraine\": \"UEFA\", \"Greece\": \"UEFA\", \n",
    "    \"Czech Republic\": \"UEFA\", \"Serbia\": \"UEFA\", \"Romania\": \"UEFA\",\n",
    "    \"Hungary\": \"UEFA\", \"Slovakia\": \"UEFA\", \"Albania\": \"UEFA\", \"Andorra\": \"UEFA\", \n",
    "    \"Armenia\": \"UEFA\", \"Azerbaijan\": \"UEFA\", \"Belarus\": \"UEFA\", \n",
    "    \"Bosnia and Herzegovina\": \"UEFA\", \"Bulgaria\": \"UEFA\", \"Estonia\": \"UEFA\", \n",
    "    \"Faroe Islands\": \"UEFA\", \"Finland\": \"UEFA\", \"Georgia\": \"UEFA\", \"Gibraltar\": \"UEFA\", \n",
    "    \"Hungary\": \"UEFA\", \"Iceland\": \"UEFA\", \"Israel\": \"UEFA\", \"Kazakhstan\": \"UEFA\",\n",
    "    \"Kosovo\": \"UEFA\", \"Latvia\": \"UEFA\", \"Liechtenstein\": \"UEFA\", \"Lithuania\": \"UEFA\", \n",
    "    \"Luxembourg\": \"UEFA\", \"Malta\": \"UEFA\", \"Moldova\": \"UEFA\", \"Montenegro\": \"UEFA\",\n",
    "    \"North Macedonia\": \"UEFA\", \"Northern Ireland\": \"UEFA\", \"Republic of Ireland\": \"UEFA\", \n",
    "    \"San Marino\": \"UEFA\", \"Scotland\": \"UEFA\", \"Slovenia\": \"UEFA\", \"Wales\": \"UEFA\", \n",
    "    \"German DR\": \"UEFA\", \"Cyprus\": \"UEFA\", \"Yugoslavia\": \"UEFA\", \"Czechoslovakia\": \"UEFA\", \n",
    "    \"Saarland\": \"UEFA\", \"Abkhazia\": \"UEFA\", \"Alderney\": \"UEFA\", \"Andalusia\": \"UEFA\",\n",
    "    \"Asturias\": \"UEFA\", \"Basque Country\": \"UEFA\", \"Brittany\": \"UEFA\", \"Catalonia\": \"UEFA\",\n",
    "    \"Central Spain\": \"UEFA\", \"Chameria\": \"UEFA\", \"Chechnya\": \"UEFA\", \"Cilento\": \"UEFA\",\n",
    "    \"Corsica\": \"UEFA\", \"County of Nice\": \"UEFA\", \"Crimea\": \"UEFA\", \"Donetsk PR\": \"UEFA\",\n",
    "    \"Délvidék\": \"UEFA\", \"Elba Island\": \"UEFA\", \"Ellan Vannin\": \"UEFA\", \"Felvidék\": \"UEFA\",\n",
    "    \"Franconia\": \"UEFA\", \"Frøya\": \"UEFA\", \"Galicia\": \"UEFA\", \"Gotland\": \"UEFA\",\n",
    "    \"Gozo\": \"UEFA\", \"Guernsey\": \"UEFA\", \"Găgăuzia\": \"UEFA\", \"Hitra\": \"UEFA\",\n",
    "    \"Isle of Man\": \"UEFA\", \"Isle of Wight\": \"UEFA\", \"Jersey\": \"UEFA\", \"Kernow\": \"UEFA\",\n",
    "    \"Kárpátalja\": \"UEFA\", \"Luhansk PR\": \"UEFA\", \"Madrid\": \"UEFA\", \"Menorca\": \"UEFA\",\n",
    "    \"Monaco\": \"UEFA\", \"Occitania\": \"UEFA\", \"Orkney\": \"UEFA\", \"Padania\": \"UEFA\", \n",
    "    \"Parishes of Jersey\": \"UEFA\", \"Provence\": \"UEFA\", \"Raetia\": \"UEFA\", \n",
    "    \"Republic of St. Pauli\": \"UEFA\", \"Rhodes\": \"UEFA\", \"Romani people\": \"UEFA\", \n",
    "    \"Saare County\": \"UEFA\", \"Sark\": \"UEFA\", \"Saugeais\": \"UEFA\", \"Sealand\": \"UEFA\",\n",
    "    \"Seborga\": \"UEFA\", \"Shetland\": \"UEFA\", \"Silesia\": \"UEFA\", \"South Ossetia\": \"UEFA\", \n",
    "    \"Surrey\": \"UEFA\", \"Székely Land\": \"UEFA\", \"Sápmi\": \"UEFA\", \"Ticino\": \"UEFA\", \n",
    "    \"Two Sicilies\": \"UEFA\", \"Vatican City\": \"UEFA\", \"Western Isles\": \"UEFA\", \n",
    "    \"Ynys Môn\": \"UEFA\", \"Yorkshire\": \"UEFA\", \"Åland Islands\": \"UEFA\", \n",
    "\n",
    "\n",
    "\n",
    "    \n",
    "    # OFC - Oceania\n",
    "    \"New Zealand\": \"OFC\", \"Fiji\": \"OFC\", \"Papua New Guinea\": \"OFC\", \n",
    "    \"Solomon Islands\": \"OFC\", \"Tahiti\": \"OFC\", \"Vanuatu\": \"OFC\", \n",
    "    \"Samoa\": \"OFC\", \"Tonga\": \"OFC\", \"American Samoa\": \"OFC\", \"Cook Islands\": \"OFC\",\n",
    "    \"Fiji\": \"OFC\", \"Kiribati\": \"OFC\", \"New Caledonia\": \"OFC\", \"Tuvalu\": \"OFC\", \n",
    "    \"Vanuatu\": \"OFC\", \"Micronesia\": \"OFC\", \"Niue\": \"OFC\", \"Northern Mariana Islands\": \"OFC\",\n",
    "    \"Palau\": \"OFC\", \"Wallis Islands and Futuna\": \"OFC\", \"West Papua\": \"OFC\",\n",
    "    \"Western Australia\": \"OFC\", \"Western Samoa\": \"OFC\", \"Australia\": \"OFC\", \n",
    "\n",
    "}\n",
    "\n",
    "# Apply confederation mapping\n",
    "final_data['confederation'] = final_data['team'].map(confederation_mapping).fillna(\"Unknown\")\n",
    "\n",
    "# Debug: Check if columns exist\n",
    "print(\"Columns in merged data:\", final_data.columns)\n",
    "\n"
   ]
  },
  {
   "cell_type": "markdown",
   "id": "a6466e64",
   "metadata": {},
   "source": [
    "### Top 5 tournament wins by country"
   ]
  },
  {
   "cell_type": "code",
   "execution_count": 6,
   "id": "27723524",
   "metadata": {},
   "outputs": [
    {
     "name": "stdout",
     "output_type": "stream",
     "text": [
      "\n",
      "Top 5 Countries in AFC by Tournament Wins:\n",
      "             team  tournament_wins\n",
      "90           Iran              448\n",
      "96          Japan              437\n",
      "173   South Korea              420\n",
      "162  Saudi Arabia              348\n",
      "38       China PR              335\n",
      "\n",
      "Top 5 Countries in CAF by Tournament Wins:\n",
      "            team  tournament_wins\n",
      "57         Egypt              374\n",
      "137      Nigeria              330\n",
      "32      Cameroon              308\n",
      "94   Ivory Coast              291\n",
      "73         Ghana              281\n",
      "\n",
      "Top 5 Countries in CONCACAF by Tournament Wins:\n",
      "              team  tournament_wins\n",
      "122         Mexico              816\n",
      "197  United States              502\n",
      "43      Costa Rica              441\n",
      "84        Honduras              302\n",
      "58     El Salvador              270\n",
      "\n",
      "Top 5 Countries in CONMEBOL by Tournament Wins:\n",
      "          team  tournament_wins\n",
      "26      Brazil             1080\n",
      "7    Argentina              967\n",
      "199    Uruguay              748\n",
      "37       Chile              519\n",
      "146   Paraguay              429\n",
      "\n",
      "Top 5 Countries in OFC by Tournament Wins:\n",
      "              team  tournament_wins\n",
      "10       Australia              600\n",
      "134    New Zealand              312\n",
      "182         Tahiti              122\n",
      "65            Fiji              111\n",
      "133  New Caledonia               97\n",
      "\n",
      "Top 5 Countries in UEFA by Tournament Wins:\n",
      "            team  tournament_wins\n",
      "72       Germany             1021\n",
      "174        Spain              891\n",
      "132  Netherlands              829\n",
      "67        France              778\n",
      "59       England              742\n"
     ]
    }
   ],
   "source": [
    "import pandas as pd\n",
    "\n",
    "# Ensure the 'winner' column exists in final_data\n",
    "final_data['winner'] = final_data.apply(\n",
    "    lambda row: row['home_team'] if row['home_score'] > row['away_score'] else (\n",
    "        row['away_team'] if row['away_score'] > row['home_score'] else 'Draw'), axis=1\n",
    ")\n",
    "\n",
    "# Compute tournament wins for each team\n",
    "tournament_wins = final_data[final_data['tournament'] != 'Friendly'].groupby('winner').size().reset_index(name='tournament_wins')\n",
    "tournament_wins.rename(columns={'winner': 'team'}, inplace=True)\n",
    "\n",
    "# Map teams to their confederations\n",
    "tournament_wins['confederation'] = tournament_wins['team'].map(confederation_mapping).fillna(\"Unknown\")\n",
    "\n",
    "# Filter teams with known confederations\n",
    "tournament_wins = tournament_wins[tournament_wins['confederation'] != \"Unknown\"]\n",
    "\n",
    "# Find top 5 countries by tournament wins in each confederation\n",
    "top_teams_by_tournament_wins = (\n",
    "    tournament_wins.sort_values(by=['confederation', 'tournament_wins'], ascending=[True, False])\n",
    "    .groupby('confederation')\n",
    "    .head(5)\n",
    ")\n",
    "\n",
    "# Display the results\n",
    "for confederation in top_teams_by_tournament_wins['confederation'].unique():\n",
    "    conf_data = top_teams_by_tournament_wins[top_teams_by_tournament_wins['confederation'] == confederation]\n",
    "    print(f\"\\nTop 5 Countries in {confederation} by Tournament Wins:\")\n",
    "    print(conf_data[['team', 'tournament_wins']])\n"
   ]
  },
  {
   "cell_type": "markdown",
   "id": "9c0bf87f",
   "metadata": {},
   "source": []
  },
  {
   "cell_type": "markdown",
   "id": "c7d90507",
   "metadata": {},
   "source": [
    "### World Cup Top Scorers "
   ]
  },
  {
   "cell_type": "code",
   "execution_count": 7,
   "id": "a4f95501",
   "metadata": {},
   "outputs": [
    {
     "name": "stdout",
     "output_type": "stream",
     "text": [
      "Top 10 Scorers in FIFA World Cup History:\n",
      "           scorer  goals\n",
      "   Miroslav Klose     16\n",
      "          Ronaldo     15\n",
      "      Gerd Müller     14\n",
      "     Lionel Messi     13\n",
      "    Just Fontaine     13\n",
      "             Pelé     12\n",
      "    Kylian Mbappé     12\n",
      " Jürgen Klinsmann     11\n",
      "    Sándor Kocsis     11\n",
      "Gabriel Batistuta     10\n"
     ]
    }
   ],
   "source": [
    "# Filter for FIFA World Cup matches\n",
    "world_cup_data = final_data[final_data['tournament'] == 'FIFA World Cup']\n",
    "\n",
    "# Group by scorer, then count the goals\n",
    "top_scorers = world_cup_data.groupby('scorer').size().reset_index(name='goals')\n",
    "\n",
    "# Sort by goals in descending order\n",
    "top_scorers = top_scorers.sort_values(by='goals', ascending=False)\n",
    "\n",
    "# Get the top 10 scorers\n",
    "top_10_scorers = top_scorers.head(10)\n",
    "\n",
    "# Display the results\n",
    "print(\"Top 10 Scorers in FIFA World Cup History:\")\n",
    "print(top_10_scorers[['scorer', 'goals']].to_string(index=False))"
   ]
  },
  {
   "cell_type": "markdown",
   "id": "20a0f05f",
   "metadata": {},
   "source": [
    "### World Cup Winners"
   ]
  },
  {
   "cell_type": "code",
   "execution_count": 8,
   "id": "2345387f",
   "metadata": {},
   "outputs": [
    {
     "name": "stdout",
     "output_type": "stream",
     "text": [
      "\n",
      "FIFA World Cup Winners by Year:\n",
      " year    winner\n",
      " 1930   Uruguay\n",
      " 1934     Italy\n",
      " 1938    Brazil\n",
      " 1950   Uruguay\n",
      " 1954   Germany\n",
      " 1958    Brazil\n",
      " 1962    Brazil\n",
      " 1966   England\n",
      " 1970    Brazil\n",
      " 1974   Germany\n",
      " 1978 Argentina\n",
      " 1982     Italy\n",
      " 1986 Argentina\n",
      " 1990   Germany\n",
      " 1994    Sweden\n",
      " 1998    France\n",
      " 2002    Brazil\n",
      " 2006     Italy\n",
      " 2010     Spain\n",
      " 2014   Germany\n",
      " 2018    France\n",
      " 2022 Argentina\n",
      "\n",
      "FIFA World Cup Wins by Confederation:\n",
      "confederation  world_cup_wins\n",
      "         UEFA              12\n",
      "     CONMEBOL              10\n"
     ]
    },
    {
     "name": "stderr",
     "output_type": "stream",
     "text": [
      "/var/folders/cf/cq2_mk856y1cwzkbm2_9r57w0000gn/T/ipykernel_3063/3695256019.py:5: SettingWithCopyWarning: \n",
      "A value is trying to be set on a copy of a slice from a DataFrame.\n",
      "Try using .loc[row_indexer,col_indexer] = value instead\n",
      "\n",
      "See the caveats in the documentation: https://pandas.pydata.org/pandas-docs/stable/user_guide/indexing.html#returning-a-view-versus-a-copy\n",
      "  world_cup_results['year'] = pd.to_datetime(world_cup_results['date']).dt.year\n"
     ]
    }
   ],
   "source": [
    "# Filter for FIFA World Cup matches\n",
    "world_cup_results = final_data[final_data['tournament'] == 'FIFA World Cup']\n",
    "\n",
    "# Extract the year of the tournament\n",
    "world_cup_results['year'] = pd.to_datetime(world_cup_results['date']).dt.year\n",
    "\n",
    "# Find the latest match date for each World Cup year\n",
    "latest_matches = (\n",
    "    world_cup_results.loc[world_cup_results.groupby('year')['date'].idxmax()]\n",
    "    .reset_index(drop=True)\n",
    ")\n",
    "\n",
    "# Determine the winner, accounting for penalties if the match was a draw\n",
    "latest_matches['winner'] = latest_matches.apply(\n",
    "    lambda row: row['home_team'] if row['home_score'] > row['away_score'] else\n",
    "    (row['away_team'] if row['away_score'] > row['home_score'] else\n",
    "     (row['pk_winner'] if 'pk_winner' in row and pd.notnull(row['pk_winner']) else 'Draw')),\n",
    "    axis=1\n",
    ")\n",
    "\n",
    "# Filter out \"Draw\" matches and include only winners\n",
    "world_cup_winners = latest_matches[['year', 'winner']].query(\"winner != 'Draw'\")\n",
    "\n",
    "# Display the winners\n",
    "print(\"\\nFIFA World Cup Winners by Year:\")\n",
    "print(world_cup_winners.to_string(index=False))\n",
    "\n",
    "# Map winners to their respective confederations\n",
    "world_cup_winners['confederation'] = world_cup_winners['winner'].map(confederation_mapping).fillna(\"Unknown\")\n",
    "\n",
    "# Count World Cup wins by confederation\n",
    "confederation_wc_wins = world_cup_winners.groupby('confederation').size().reset_index(name='world_cup_wins')\n",
    "\n",
    "# Sort by number of wins in descending order\n",
    "confederation_wc_wins = confederation_wc_wins.sort_values(by='world_cup_wins', ascending=False)\n",
    "\n",
    "# Display the rankings\n",
    "print(\"\\nFIFA World Cup Wins by Confederation:\")\n",
    "print(confederation_wc_wins.to_string(index=False))"
   ]
  },
  {
   "cell_type": "markdown",
   "id": "4a4d4e16",
   "metadata": {},
   "source": [
    "### Top International Teams by Win Rate and Goal Differential"
   ]
  },
  {
   "cell_type": "code",
   "execution_count": 9,
   "metadata": {},
   "outputs": [
    {
     "name": "stdout",
     "output_type": "stream",
     "text": [
      "                matches  wins  draws  losses  goals_for  goals_against  \\\n",
      "team                                                                     \n",
      "Brazil             1046   665    214     167       2278            940   \n",
      "Spain               764   449    176     139       1553            683   \n",
      "Germany            1014   588    212     214       2268           1174   \n",
      "Iran                600   343    141     116       1134            475   \n",
      "England            1076   614    257     205       2350           1036   \n",
      "Argentina          1053   579    256     218       1990           1069   \n",
      "South Korea         996   531    250     215       1773            904   \n",
      "Italy               870   463    241     166       1511            845   \n",
      "Czech Republic      355   187     72      96        629            361   \n",
      "Croatia             382   199    103      80        655            387   \n",
      "\n",
      "                win_rate  goal_difference  \n",
      "team                                       \n",
      "Brazil          0.635755             1338  \n",
      "Spain           0.587696              870  \n",
      "Germany         0.579882             1094  \n",
      "Iran            0.571667              659  \n",
      "England         0.570632             1314  \n",
      "Argentina       0.549858              921  \n",
      "South Korea     0.533133              869  \n",
      "Italy           0.532184              666  \n",
      "Czech Republic  0.526761              268  \n",
      "Croatia         0.520942              268  \n"
     ]
    }
   ],
   "source": [
    "# Identify the best team based on win rate and goal difference (250+ matches filter)\n",
    "results_data['winner'] = results_data.apply(\n",
    "    lambda row: row['home_team'] if row['home_score'] > row['away_score'] else (\n",
    "        row['away_team'] if row['away_score'] > row['home_score'] else 'Draw'), axis=1)\n",
    "\n",
    "team_stats = pd.concat([\n",
    "    results_data[['home_team', 'home_score', 'away_score', 'winner']].rename(columns={\n",
    "        'home_team': 'team', 'home_score': 'goals_for', 'away_score': 'goals_against'\n",
    "    }),\n",
    "    results_data[['away_team', 'away_score', 'home_score', 'winner']].rename(columns={\n",
    "        'away_team': 'team', 'away_score': 'goals_for', 'home_score': 'goals_against'\n",
    "    })\n",
    "])\n",
    "\n",
    "team_stats['win'] = team_stats['winner'] == team_stats['team']\n",
    "team_stats['draw'] = team_stats['winner'] == 'Draw'\n",
    "team_stats['loss'] = ~(team_stats['win'] | team_stats['draw'])\n",
    "\n",
    "team_summary = team_stats.groupby('team').agg(\n",
    "    matches=('win', 'count'),\n",
    "    wins=('win', 'sum'),\n",
    "    draws=('draw', 'sum'),\n",
    "    losses=('loss', 'sum'),\n",
    "    goals_for=('goals_for', 'sum'),\n",
    "    goals_against=('goals_against', 'sum')\n",
    ")\n",
    "\n",
    "# Filter for teams with 250+ matches\n",
    "team_summary = team_summary[team_summary['matches'] >= 250]\n",
    "\n",
    "team_summary['win_rate'] = team_summary['wins'] / team_summary['matches']\n",
    "team_summary['goal_difference'] = team_summary['goals_for'] - team_summary['goals_against']\n",
    "\n",
    "# Sort by win rate and wins to identify the best teams\n",
    "best_teams = team_summary.sort_values(by=['win_rate', 'wins'], ascending=[False, False]).head(10)\n",
    "print(best_teams)\n",
    "\n",
    "best_teams.reset_index(inplace=True)"
   ]
  },
  {
   "cell_type": "markdown",
   "id": "e6374433",
   "metadata": {},
   "source": [
    "### Total World Cup goals by confederation"
   ]
  },
  {
   "cell_type": "code",
   "execution_count": 10,
   "id": "2f9b9db0",
   "metadata": {},
   "outputs": [
    {
     "name": "stdout",
     "output_type": "stream",
     "text": [
      "\n",
      "FIFA World Cup Total Goals by Confederation:\n",
      "home_confederation  total_goals\n",
      "              UEFA         7204\n",
      "          CONMEBOL         2538\n",
      "               CAF          550\n",
      "          CONCACAF          518\n",
      "               AFC          367\n",
      "               OFC           75\n"
     ]
    },
    {
     "name": "stderr",
     "output_type": "stream",
     "text": [
      "/var/folders/cf/cq2_mk856y1cwzkbm2_9r57w0000gn/T/ipykernel_3063/3605003208.py:5: SettingWithCopyWarning: \n",
      "A value is trying to be set on a copy of a slice from a DataFrame.\n",
      "Try using .loc[row_indexer,col_indexer] = value instead\n",
      "\n",
      "See the caveats in the documentation: https://pandas.pydata.org/pandas-docs/stable/user_guide/indexing.html#returning-a-view-versus-a-copy\n",
      "  world_cup_data['total_goals'] = world_cup_data['home_score'] + world_cup_data['away_score']\n",
      "/var/folders/cf/cq2_mk856y1cwzkbm2_9r57w0000gn/T/ipykernel_3063/3605003208.py:8: SettingWithCopyWarning: \n",
      "A value is trying to be set on a copy of a slice from a DataFrame.\n",
      "Try using .loc[row_indexer,col_indexer] = value instead\n",
      "\n",
      "See the caveats in the documentation: https://pandas.pydata.org/pandas-docs/stable/user_guide/indexing.html#returning-a-view-versus-a-copy\n",
      "  world_cup_data['home_confederation'] = world_cup_data['home_team'].map(confederation_mapping).fillna(\"Unknown\")\n",
      "/var/folders/cf/cq2_mk856y1cwzkbm2_9r57w0000gn/T/ipykernel_3063/3605003208.py:9: SettingWithCopyWarning: \n",
      "A value is trying to be set on a copy of a slice from a DataFrame.\n",
      "Try using .loc[row_indexer,col_indexer] = value instead\n",
      "\n",
      "See the caveats in the documentation: https://pandas.pydata.org/pandas-docs/stable/user_guide/indexing.html#returning-a-view-versus-a-copy\n",
      "  world_cup_data['away_confederation'] = world_cup_data['away_team'].map(confederation_mapping).fillna(\"Unknown\")\n"
     ]
    }
   ],
   "source": [
    "# Filter for FIFA World Cup matches\n",
    "world_cup_data = final_data[final_data['tournament'] == 'FIFA World Cup']\n",
    "\n",
    "# Calculate goals for each match\n",
    "world_cup_data['total_goals'] = world_cup_data['home_score'] + world_cup_data['away_score']\n",
    "\n",
    "# Map home and away teams to confederations\n",
    "world_cup_data['home_confederation'] = world_cup_data['home_team'].map(confederation_mapping).fillna(\"Unknown\")\n",
    "world_cup_data['away_confederation'] = world_cup_data['away_team'].map(confederation_mapping).fillna(\"Unknown\")\n",
    "\n",
    "# Group by confederation and sum goals for home and away teams\n",
    "confederation_goals = (\n",
    "    world_cup_data.groupby('home_confederation')['home_score'].sum()\n",
    "    + world_cup_data.groupby('away_confederation')['away_score'].sum()\n",
    ").reset_index(name='total_goals')\n",
    "\n",
    "# Sort by total goals in descending order\n",
    "confederation_goals = confederation_goals.sort_values(by='total_goals', ascending=False)\n",
    "\n",
    "# Display the results\n",
    "print(\"\\nFIFA World Cup Total Goals by Confederation:\")\n",
    "print(confederation_goals.to_string(index=False))\n"
   ]
  },
  {
   "cell_type": "markdown",
   "id": "8d6c3e90",
   "metadata": {},
   "source": [
    "## International Rivalaries - Most Frequented Match Ups"
   ]
  },
  {
   "cell_type": "code",
   "execution_count": null,
   "id": "a61f6bc9",
   "metadata": {},
   "outputs": [
    {
     "name": "stdout",
     "output_type": "stream",
     "text": [
      "         home_team    away_team  match_count\n",
      "454      Argentina      Uruguay           99\n",
      "11392      Uruguay    Argentina           83\n",
      "657        Austria      Hungary           69\n",
      "4704       Hungary      Austria           68\n",
      "5781         Kenya       Uganda           66\n",
      "436      Argentina     Paraguay           65\n",
      "7416   Netherlands      Belgium           64\n",
      "1070       Belgium  Netherlands           64\n",
      "1444        Brazil     Paraguay           60\n",
      "5586        Jersey     Guernsey           60\n",
      "             country  matches_hosted  wins_as_host  win_rate_as_host\n",
      "149       Micronesia               1             1          1.000000\n",
      "171  Northern Cyprus              11             9          0.818182\n",
      "201     Saint Martin              10             8          0.800000\n",
      "31            Brazil             361           264          0.731302\n",
      "223            Spain             332           237          0.713855\n",
      "..               ...             ...           ...               ...\n",
      "257       Vietnam DR               0             0               NaN\n",
      "260    Western Samoa               0             0               NaN\n",
      "262         Yemen AR               0             0               NaN\n",
      "267            Zaïre               0             0               NaN\n",
      "269             Éire               0             0               NaN\n",
      "\n",
      "[270 rows x 4 columns]\n"
     ]
    }
   ],
   "source": [
    "# Rivalries: Most frequent matchups\n",
    "rivalries = results_data.groupby(['home_team', 'away_team']).size().reset_index(name='match_count')\n",
    "rivalries = rivalries.sort_values(by='match_count', ascending=False).head(10)\n",
    "print(rivalries)\n"
   ]
  },
  {
   "cell_type": "markdown",
   "id": "5c4e1721",
   "metadata": {},
   "source": [
    "### Host Country Performance Trends"
   ]
  },
  {
   "cell_type": "code",
   "execution_count": 20,
   "id": "1f992cb9",
   "metadata": {},
   "outputs": [
    {
     "name": "stdout",
     "output_type": "stream",
     "text": [
      "            country  matches_hosted  wins_as_host  win_rate_as_host\n",
      "31           Brazil             361           264          0.731302\n",
      "223           Spain             332           237          0.713855\n",
      "108            Iran             211           150          0.710900\n",
      "115     Ivory Coast             209           145          0.693780\n",
      "98           Guinea             133            91          0.684211\n",
      "58   Czech Republic             142            97          0.683099\n",
      "68            Egypt             282           192          0.680851\n",
      "148          Mexico             288           195          0.677083\n",
      "168         Nigeria             206           139          0.674757\n",
      "8         Argentina             350           233          0.665714\n",
      "           country  matches_hosted  wins_as_host  win_rate_as_host\n",
      "204     San Marino             102             2          0.019608\n",
      "131  Liechtenstein             109            11          0.100917\n",
      "4          Andorra              88            10          0.113636\n",
      "133     Luxembourg             245            31          0.126531\n",
      "142          Malta             241            43          0.178423\n",
      "128        Lesotho              98            20          0.204082\n",
      "76   Faroe Islands             117            26          0.222222\n",
      "150        Moldova             106            25          0.235849\n",
      "57          Cyprus             226            60          0.265487\n",
      "13      Azerbaijan             106            29          0.273585\n"
     ]
    }
   ],
   "source": [
    "# Host country performance\n",
    "host_performance = results_data.copy()\n",
    "host_performance['is_host'] = host_performance['home_team'] == host_performance['country']\n",
    "host_performance['host_win'] = host_performance['winner'] == host_performance['country']\n",
    "\n",
    "# Group by country and calculate metrics\n",
    "host_summary = host_performance.groupby('country').agg(\n",
    "    matches_hosted=('is_host', 'sum'),\n",
    "    wins_as_host=('host_win', 'sum')\n",
    ").reset_index()\n",
    "host_summary['win_rate_as_host'] = host_summary['wins_as_host'] / host_summary['matches_hosted']\n",
    "\n",
    "# Filter to include only countries with 50+ matches hosted\n",
    "host_summary_filtered = host_summary[host_summary['matches_hosted'] >= 50]\n",
    "\n",
    "# Sort by win rate as host and display to show top performing countries\n",
    "print(host_summary_filtered.sort_values(by='win_rate_as_host', ascending=False).head(10))\n",
    "\n",
    "#Sort by descendig order to display worst performing countries as host\n",
    "print(host_summary_filtered.sort_values(by='win_rate_as_host', ascending=True).head(10))\n"
   ]
  }
 ],
 "metadata": {
  "kernelspec": {
   "display_name": "Python 3",
   "language": "python",
   "name": "python3"
  },
  "language_info": {
   "codemirror_mode": {
    "name": "ipython",
    "version": 3
   },
   "file_extension": ".py",
   "mimetype": "text/x-python",
   "name": "python",
   "nbconvert_exporter": "python",
   "pygments_lexer": "ipython3",
   "version": "3.14.0a2"
  }
 },
 "nbformat": 4,
 "nbformat_minor": 5
}
